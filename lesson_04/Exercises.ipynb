{
 "cells": [
  {
   "cell_type": "markdown",
   "metadata": {},
   "source": [
    "# Ejercicios #"
   ]
  },
  {
   "cell_type": "markdown",
   "metadata": {},
   "source": [
    "## 1. Calculando ##\n",
    "\n",
    "Para un entero positivo `n` se define la función `f`:\n",
    "\n",
    "    f(n) =  - 1 + 2 - 3 + ... + (-1)^n * n\n",
    "\n",
    "Tu tarea es desarrollar una función para calcular `f(n)` para un dado entero `n`."
   ]
  },
  {
   "cell_type": "code",
   "execution_count": 22,
   "metadata": {},
   "outputs": [
    {
     "name": "stdout",
     "output_type": "stream",
     "text": [
      "90\n",
      "45\n"
     ]
    }
   ],
   "source": [
    "n = int(input())\n",
    "def f(n):\n",
    "    if ((-1) ** n * n) % 2 == 0:\n",
    "        return n // 2\n",
    "    else:\n",
    "        return (abs(n) + 1) // 2\n",
    "print(f(n))"
   ]
  },
  {
   "cell_type": "markdown",
   "metadata": {},
   "source": [
    "## 2. Sierpinski ##\n",
    "\n",
    "Tu tarea es dibujar el [triángulo de Sierpinski](https://es.wikipedia.org/wiki/Tri%C3%A1ngulo_de_Sierpinski) usando sólo caracteres ascii. Debes leer un número entero positivo que te indicará la profundidad del famoso fractal.\n",
    "\n",
    "**Ejemplo:**\n",
    "\n",
    "Entradas:\n",
    "     \n",
    "     3\n",
    "     2\n",
    "     1\n",
    "     \n",
    "Salidas:\n",
    "\n",
    "           /\\\n",
    "          /__\\\n",
    "         /\\  /\\\n",
    "        /__\\/__\\\n",
    "       /\\      /\\\n",
    "      /__\\    /__\\\n",
    "     /\\  /\\  /\\  /\\\n",
    "    /__\\/__\\/__\\/__\\\n",
    "\n",
    "       /\\\n",
    "      /__\\\n",
    "     /\\  /\\\n",
    "    /__\\/__\\\n",
    "\n",
    "     /\\\n",
    "    /__\\\n"
   ]
  },
  {
   "cell_type": "markdown",
   "metadata": {},
   "source": [
    "## 3. Fibonacci ##\n",
    "\n",
    "Dado un número entero positivo `n`, tu tarea es hacer una función para imprimir los `n` primeros términos de la [sucesión de Fibonacci](https://es.wikipedia.org/wiki/Sucesi%C3%B3n_de_Fibonacci). Implementa tanto la solución recursiva como iterativa.\n",
    "\n",
    "**Ejemplo:**\n",
    "\n",
    ">Entrada: 7\n",
    ">\n",
    ">Salida: 0 1 1 2 3 5 8"
   ]
  },
  {
   "cell_type": "code",
   "execution_count": 1,
   "metadata": {},
   "outputs": [
    {
     "name": "stdout",
     "output_type": "stream",
     "text": [
      "4\n",
      "0\n",
      "1\n",
      "1\n",
      "2\n"
     ]
    }
   ],
   "source": [
    "n = int(input())\n",
    "\n",
    "def fibonacci(n):\n",
    "    if(n == 0 or n == 1):\n",
    "        return n\n",
    "    else:\n",
    "        return fibonacci(n - 1) + fibonacci(n - 2)\n",
    "\n",
    "for i in range(0, n):\n",
    "    print(fibonacci(i))"
   ]
  },
  {
   "cell_type": "markdown",
   "metadata": {},
   "source": [
    "## 4. Hanoi 2 ##\n",
    "\n",
    "Nuevamente con las torres de Hanoi, ya teníamos una solución que devolvía el mínimo número de pasos, esta vez la función debe imprimir cuáles son estos pasos. La función recibe un entero positivo `n` que indica el número de discos, los discos se numeran de `1 a n`, del más pequeno al más grande. Los palos serán `A, B, C`. El formato se indica en el ejemplo.\n",
    "\n",
    "**Ejemplo:**\n",
    "\n",
    "Entrada:\n",
    "\n",
    "    2\n",
    "    \n",
    "Salida:\n",
    "\n",
    "    Disco 1 movido de A a B\n",
    "    Disco 2 movido de A a C\n",
    "    Disco 1 movido de B a C\n",
    "\n"
   ]
  },
  {
   "cell_type": "code",
   "execution_count": 2,
   "metadata": {},
   "outputs": [
    {
     "name": "stdout",
     "output_type": "stream",
     "text": [
      "4\n",
      "disco  1  de A a B\n",
      "disco  2  de A a C\n",
      "disco  1  de B a C\n",
      "disco  3  de A a B\n",
      "disco  1  de C a A\n",
      "disco  2  de C a B\n",
      "disco  1  de A a B\n",
      "disco  4  de A a C\n",
      "disco  1  de B a C\n",
      "disco  2  de B a A\n",
      "disco  1  de C a A\n",
      "disco  3  de B a C\n",
      "disco  1  de A a B\n",
      "disco  2  de A a C\n",
      "disco  1  de B a C\n"
     ]
    }
   ],
   "source": [
    "n = int(input())\n",
    "def preMoverTorre(altura):\n",
    "    moverTorre(altura, 'A', 'C', 'B')\n",
    "def moverTorre(altura, origen, destino, intermedio):\n",
    "    if altura >= 1:\n",
    "        moverTorre(altura - 1, origen, intermedio, destino)\n",
    "        moverDisco(altura, origen, destino)\n",
    "        moverTorre(altura - 1, intermedio, destino, origen)\n",
    "\n",
    "def moverDisco(disco, desde,hacia):\n",
    "    print(\"disco \", disco, \" de\",desde,\"a\",hacia)\n",
    "\n",
    "preMoverTorre(n)"
   ]
  }
 ],
 "metadata": {
  "kernelspec": {
   "display_name": "Python 3",
   "language": "python",
   "name": "python3"
  },
  "language_info": {
   "codemirror_mode": {
    "name": "ipython",
    "version": 3
   },
   "file_extension": ".py",
   "mimetype": "text/x-python",
   "name": "python",
   "nbconvert_exporter": "python",
   "pygments_lexer": "ipython3",
   "version": "3.6.5"
  }
 },
 "nbformat": 4,
 "nbformat_minor": 2
}
