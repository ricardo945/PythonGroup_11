{
 "cells": [
  {
   "cell_type": "markdown",
   "metadata": {},
   "source": [
    "# Ejemplos de Clase #"
   ]
  },
  {
   "cell_type": "markdown",
   "metadata": {},
   "source": [
    "## 1. Piedra, papel y tijera##\n",
    "\n",
    "Todos conocemos el típico juego, nos piden que desarrollemos un programa que liste todas las posibles combinaciones si juegan dos amigos.\n",
    "\n",
    "### Solución ###"
   ]
  },
  {
   "cell_type": "markdown",
   "metadata": {},
   "source": [
    "Bastaría con usar dos bucles anidados para generar las combinaciones."
   ]
  },
  {
   "cell_type": "code",
   "execution_count": null,
   "metadata": {},
   "outputs": [],
   "source": [
    "values = ['piedra', 'papel', 'tijera']\n",
    "\n",
    "combinations = []\n",
    "\n",
    "for u in values:\n",
    "    for v in values:\n",
    "        combinations.append((u, v))\n",
    "\n",
    "combinations"
   ]
  },
  {
   "cell_type": "markdown",
   "metadata": {},
   "source": [
    "Mucho más elegante resulta usar listas por comprensión."
   ]
  },
  {
   "cell_type": "code",
   "execution_count": null,
   "metadata": {},
   "outputs": [],
   "source": [
    "[(u, v) for u in values for v in values]"
   ]
  },
  {
   "cell_type": "markdown",
   "metadata": {},
   "source": [
    "## 2. Input() ##\n",
    "\n",
    "Hemos usado la función `input` varias veces hasta ahora, debes volver a usarla para leer el ingreso de una cantidad no fija números enteros separados por un espacio. Imprime una lista con estos números.\n",
    "\n",
    "**Ejemplo:**\n",
    "\n",
    "> Entrada: 1 2 4 6 3 23 43\n",
    ">\n",
    "> Salida: [1, 2, 4, 6, 3, 23, 43]\n",
    "\n",
    "### Solución ###"
   ]
  },
  {
   "cell_type": "markdown",
   "metadata": {},
   "source": [
    "Usamos `input` para leer la cadena y con split armamos una lista de cadenas, luego con un bucle y la función `int` armamos la lista de enteros."
   ]
  },
  {
   "cell_type": "code",
   "execution_count": null,
   "metadata": {},
   "outputs": [],
   "source": [
    "string = input()\n",
    "str_array = string.split()\n",
    "int_array = []\n",
    "for c in str_array:\n",
    "    int_array.append(int(c))\n",
    "int_array"
   ]
  },
  {
   "cell_type": "markdown",
   "metadata": {},
   "source": [
    "Pero usando `map` es mucho más simple."
   ]
  },
  {
   "cell_type": "code",
   "execution_count": null,
   "metadata": {},
   "outputs": [],
   "source": [
    "list(map(int, input().split()))"
   ]
  },
  {
   "cell_type": "markdown",
   "metadata": {},
   "source": [
    "## 3. Celulares ##\n",
    "\n",
    "Lees una cantidad no fija de números de celulares y debes regresar una lista que contenga sólo aquellos números que sean válidos. Un número de celular válido es aquel que tiene 9 dígitos y su primer dígito es 7, 8 o 9.\n",
    "\n",
    "**Ejemplo:**\n",
    "\n",
    ">Entrada: 999999999 989898980 799999 99999999999 787890980\n",
    ">\n",
    ">Salida: [999999999, 989898980, 787890980]\n",
    "\n",
    "### Solución ###"
   ]
  },
  {
   "cell_type": "markdown",
   "metadata": {},
   "source": [
    "Leemos los números y filtramos aquellos que cumplan con la condición pedida, para esto nos apoyamos en la función `filter`."
   ]
  },
  {
   "cell_type": "code",
   "execution_count": null,
   "metadata": {},
   "outputs": [],
   "source": [
    "array = input().split()\n",
    "list(filter(lambda n: 6 < int(n[0]) < 10 and len(n) == 9, array))"
   ]
  },
  {
   "cell_type": "markdown",
   "metadata": {},
   "source": [
    "## 4. Coordenadas ##\n",
    "\n",
    "Por error en una medición de coordenadas se registraron por separado las longitudes `X` y las latitudes `Y`, tu tarea es leer ambos registros e imprimir una lista de coordenadas. Además debes imprimir la suma de todas las coordenadas.\n",
    "\n",
    "**Ejemplo:**\n",
    "\n",
    "Entrada:\n",
    "\n",
    "    1 2 3\n",
    "    1 2 3\n",
    "    \n",
    "Salida:\n",
    "\n",
    "    [(1, 1), (2, 2), (3, 3)]\n",
    "    (6, 6)\n",
    "\n",
    "### Solución ###"
   ]
  },
  {
   "cell_type": "markdown",
   "metadata": {},
   "source": [
    "Apoyándonos en la función `zip` podemos rápidamente unir las latitudes y longitudes, posteriormente usamos `reduce` para sumar todas las coordenadas."
   ]
  },
  {
   "cell_type": "code",
   "execution_count": null,
   "metadata": {},
   "outputs": [],
   "source": [
    "from functools import reduce\n",
    "\n",
    "X = map(int, input().split())\n",
    "Y = map(int, input().split())\n",
    "\n",
    "coords = [p for p in zip(X, Y)]\n",
    "print(coords)\n",
    "reduce(lambda p1, p2: (p1[0] + p2[0], p1[1] + p2[0]), coords)"
   ]
  }
 ],
 "metadata": {
  "kernelspec": {
   "display_name": "Python 3",
   "language": "python",
   "name": "python3"
  },
  "language_info": {
   "codemirror_mode": {
    "name": "ipython",
    "version": 3
   },
   "file_extension": ".py",
   "mimetype": "text/x-python",
   "name": "python",
   "nbconvert_exporter": "python",
   "pygments_lexer": "ipython3",
   "version": "3.6.3"
  }
 },
 "nbformat": 4,
 "nbformat_minor": 2
}
