{
 "cells": [
  {
   "cell_type": "markdown",
   "metadata": {},
   "source": [
    "# Ejercicios #"
   ]
  },
  {
   "cell_type": "markdown",
   "metadata": {},
   "source": [
    "## 1. Ordenar ##\n",
    "\n",
    "Dada una lista de números enteros, tienes la tarea de ordenarla de menor a mayor."
   ]
  },
  {
   "cell_type": "code",
   "execution_count": 1,
   "metadata": {},
   "outputs": [
    {
     "name": "stdout",
     "output_type": "stream",
     "text": [
      "1 2 3 4\n",
      "Lista ordenada:  [1, 2, 3, 4]\n"
     ]
    }
   ],
   "source": [
    "list_ = [int(x) for x in input().split()]\n",
    "list_.sort()\n",
    "print('Lista ordenada: ', list_)"
   ]
  },
  {
   "cell_type": "markdown",
   "metadata": {},
   "source": [
    "## 2. Segundo mayor puntaje  ##\n",
    "\n",
    "Dada una lista de números enteros que representan los puntajes en un examen, debes devolver el segundo mayor puntaje, pueden haber puntajes iguales."
   ]
  },
  {
   "cell_type": "code",
   "execution_count": 5,
   "metadata": {},
   "outputs": [
    {
     "name": "stdout",
     "output_type": "stream",
     "text": [
      "23 43 5 234\n",
      "Segundo mejor puntaje:  43\n"
     ]
    }
   ],
   "source": [
    "notes = [int(x) for x in input().split()]\n",
    "notes.sort()\n",
    "print('Segundo mejor puntaje: ', notes[len(notes)-2])"
   ]
  },
  {
   "cell_type": "markdown",
   "metadata": {},
   "source": [
    "## 3. Intercambia mayúsculas y minúsculas ##\n",
    "\n",
    "Lee una cadena y convierte las minúsculas en mayúsculas y viceversa. Imprime la respuesta.\n",
    "\n",
    "**Ejemplo:**\n",
    "\n",
    "> Www.Area51TrainingCenter.com → wWW.aREA51tRAININGcENTER.COM"
   ]
  },
  {
   "cell_type": "code",
   "execution_count": 2,
   "metadata": {},
   "outputs": [
    {
     "name": "stdout",
     "output_type": "stream",
     "text": [
      "sdasdASDSAFdasda\n",
      "sdasdASDSAFdasda  ->  SDASDasdsafDASDA\n"
     ]
    }
   ],
   "source": [
    "n = input()\n",
    "print(n, ' -> ', n.swapcase())"
   ]
  },
  {
   "cell_type": "markdown",
   "metadata": {},
   "source": [
    "## 4. Ancho de Cadena ##\n",
    "\n",
    "Dada una cadena y un ancho. Tienes la tarea de convertir la cadena en un texto que tenga el ancho dado. Garantizamos que este ancho será siempre positivo y menor al tamaño de la cadena. \n",
    "\n",
    "**Ejemplo de entrada**\n",
    "\n",
    "    ABCDEFGHIJKLIMNOQRSTUVWXYZ\n",
    "\n",
    "    4\n",
    "\n",
    "**Ejemplo de salida**\n",
    "\n",
    "    ABCD\n",
    "    EFGH\n",
    "    IJKL\n",
    "    IMNO\n",
    "    QRST\n",
    "    UVWX\n",
    "    YZ"
   ]
  },
  {
   "cell_type": "code",
   "execution_count": null,
   "metadata": {},
   "outputs": [],
   "source": [
    "n = input()\n",
    "tamanio = int(input())\n",
    "aux = len(n)//tamanio\n",
    "for i in range(0, aux):\n",
    "    cad = n[:tamanio]\n",
    "    print(cad)\n",
    "    tamanio = len(n.split(cad))\n",
    "    print(tamanio)"
   ]
  }
 ],
 "metadata": {
  "kernelspec": {
   "display_name": "Python 3",
   "language": "python",
   "name": "python3"
  },
  "language_info": {
   "codemirror_mode": {
    "name": "ipython",
    "version": 3
   },
   "file_extension": ".py",
   "mimetype": "text/x-python",
   "name": "python",
   "nbconvert_exporter": "python",
   "pygments_lexer": "ipython3",
   "version": "3.6.5"
  }
 },
 "nbformat": 4,
 "nbformat_minor": 2
}
